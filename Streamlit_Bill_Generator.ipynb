{
  "nbformat": 4,
  "nbformat_minor": 0,
  "metadata": {
    "colab": {
      "provenance": [],
      "authorship_tag": "ABX9TyP9PtXZPVODgsHw32BseYwZ",
      "include_colab_link": true
    },
    "kernelspec": {
      "name": "python3",
      "display_name": "Python 3"
    },
    "language_info": {
      "name": "python"
    }
  },
  "cells": [
    {
      "cell_type": "markdown",
      "metadata": {
        "id": "view-in-github",
        "colab_type": "text"
      },
      "source": [
        "<a href=\"https://colab.research.google.com/github/sumanthrancho/sample.py/blob/main/Streamlit_Bill_Generator.ipynb\" target=\"_parent\"><img src=\"https://colab.research.google.com/assets/colab-badge.svg\" alt=\"Open In Colab\"/></a>"
      ]
    },
    {
      "cell_type": "markdown",
      "source": [
        "# **Project-2**\n",
        "\n"
      ],
      "metadata": {
        "id": "8Iusny5NPOTF"
      }
    },
    {
      "cell_type": "markdown",
      "source": [
        "\n",
        "\n",
        "#                    **Bill Generation**\n",
        "\n",
        "**Concept:**\n",
        "\n",
        "You are the shopkeeper as well as the cashier at your grocery store. Since there is the COVID pandemic, there has been a lockdown in your city. So, you start online services for your store.\n",
        "Customers log in to your store’s website and place an order of all the items they need by interacting with the chatbot. Since there are a limited variety of items at your store, the chatbot should ask the customers the quantity of each item they need.\n",
        "After the conversation ends, the website is supposed to send them the bill.\n",
        "\n",
        "Below is the list of items and their prices:\n",
        "\n",
        "Item        Price per kg\n",
        "Tomatoes     40\n",
        "\n",
        "Onions       60\n",
        "\n",
        "Potatoes     55\n",
        "\n",
        "Brinjal      65\n",
        "\n",
        "Cabbage      75\n",
        "\n",
        "Cauliflower  70\n",
        "\n",
        "Capsicum     80\n",
        "\n",
        "\n",
        "\n",
        "Project Statement:\n",
        "\n",
        "Write a code to\n",
        "\n",
        "1.   Ask the customers the number of items needed in the above-listed order and acquire the information.\n",
        "\n",
        "2.   Indicate the items they ordered along with the quantity as well as the total price against each item.\n",
        "\n",
        "3.   Finally indicate the bill total.\n",
        "\n",
        "Your code should accept the values of the quantities of each item of the list in the mentioned order only.\n",
        "\n",
        "Make the conversation, bill specifications, and aesthetics as customer-friendly as possible.\n",
        "\n",
        "Example:\n",
        "\n",
        "Hello! Would you like to place an order? (Y/N)\n",
        "\n",
        "Y\n",
        "\n",
        "----------------------------------------------------------------\n",
        "\n",
        "How many kilos of TOMATOES would you like to purchase?\n",
        "\n",
        "2\n",
        "\n",
        "How many kilos of ONIONS would you like to purchase?\n",
        "\n",
        "2\n",
        "---------------------------------------------------------------\n",
        "\n",
        "You have ordered:\n",
        "\n",
        "---------------------------------------------------------------\n",
        "\n",
        "Tomatoes - 2 - 80\n",
        "Onions - 2 - 120\n",
        "\n",
        "---------------------------------------------------------------\n",
        "\n",
        "Your Total = 550\n",
        "\n",
        "---------------------------------------------------------------\n",
        "\n",
        "Thank you for shopping with us!\n",
        "\n"
      ],
      "metadata": {
        "id": "qOkg3ys3QN4r"
      }
    },
    {
      "cell_type": "code",
      "source": [
        "!pip install streamlit"
      ],
      "metadata": {
        "colab": {
          "base_uri": "https://localhost:8080/"
        },
        "id": "uRMpVBK3XwYF",
        "outputId": "de01cfa7-f4f9-439f-86a8-f67d3afab3e0"
      },
      "execution_count": 3,
      "outputs": [
        {
          "output_type": "stream",
          "name": "stdout",
          "text": [
            "Collecting streamlit\n",
            "  Downloading streamlit-1.25.0-py2.py3-none-any.whl (8.1 MB)\n",
            "\u001b[2K     \u001b[90m━━━━━━━━━━━━━━━━━━━━━━━━━━━━━━━━━━━━━━━━\u001b[0m \u001b[32m8.1/8.1 MB\u001b[0m \u001b[31m27.6 MB/s\u001b[0m eta \u001b[36m0:00:00\u001b[0m\n",
            "\u001b[?25hRequirement already satisfied: altair<6,>=4.0 in /usr/local/lib/python3.10/dist-packages (from streamlit) (4.2.2)\n",
            "Requirement already satisfied: blinker<2,>=1.0.0 in /usr/lib/python3/dist-packages (from streamlit) (1.4)\n",
            "Requirement already satisfied: cachetools<6,>=4.0 in /usr/local/lib/python3.10/dist-packages (from streamlit) (5.3.1)\n",
            "Requirement already satisfied: click<9,>=7.0 in /usr/local/lib/python3.10/dist-packages (from streamlit) (8.1.6)\n",
            "Requirement already satisfied: importlib-metadata<7,>=1.4 in /usr/lib/python3/dist-packages (from streamlit) (4.6.4)\n",
            "Requirement already satisfied: numpy<2,>=1.19.3 in /usr/local/lib/python3.10/dist-packages (from streamlit) (1.22.4)\n",
            "Requirement already satisfied: packaging<24,>=16.8 in /usr/local/lib/python3.10/dist-packages (from streamlit) (23.1)\n",
            "Requirement already satisfied: pandas<3,>=1.3.0 in /usr/local/lib/python3.10/dist-packages (from streamlit) (1.5.3)\n",
            "Requirement already satisfied: pillow<10,>=7.1.0 in /usr/local/lib/python3.10/dist-packages (from streamlit) (9.4.0)\n",
            "Requirement already satisfied: protobuf<5,>=3.20 in /usr/local/lib/python3.10/dist-packages (from streamlit) (3.20.3)\n",
            "Requirement already satisfied: pyarrow>=6.0 in /usr/local/lib/python3.10/dist-packages (from streamlit) (9.0.0)\n",
            "Collecting pympler<2,>=0.9 (from streamlit)\n",
            "  Downloading Pympler-1.0.1-py3-none-any.whl (164 kB)\n",
            "\u001b[2K     \u001b[90m━━━━━━━━━━━━━━━━━━━━━━━━━━━━━━━━━━━━━━\u001b[0m \u001b[32m164.8/164.8 kB\u001b[0m \u001b[31m15.7 MB/s\u001b[0m eta \u001b[36m0:00:00\u001b[0m\n",
            "\u001b[?25hRequirement already satisfied: python-dateutil<3,>=2.7.3 in /usr/local/lib/python3.10/dist-packages (from streamlit) (2.8.2)\n",
            "Requirement already satisfied: requests<3,>=2.18 in /usr/local/lib/python3.10/dist-packages (from streamlit) (2.27.1)\n",
            "Requirement already satisfied: rich<14,>=10.14.0 in /usr/local/lib/python3.10/dist-packages (from streamlit) (13.4.2)\n",
            "Requirement already satisfied: tenacity<9,>=8.1.0 in /usr/local/lib/python3.10/dist-packages (from streamlit) (8.2.2)\n",
            "Requirement already satisfied: toml<2,>=0.10.1 in /usr/local/lib/python3.10/dist-packages (from streamlit) (0.10.2)\n",
            "Requirement already satisfied: typing-extensions<5,>=4.1.0 in /usr/local/lib/python3.10/dist-packages (from streamlit) (4.7.1)\n",
            "Collecting tzlocal<5,>=1.1 (from streamlit)\n",
            "  Downloading tzlocal-4.3.1-py3-none-any.whl (20 kB)\n",
            "Collecting validators<1,>=0.2 (from streamlit)\n",
            "  Downloading validators-0.20.0.tar.gz (30 kB)\n",
            "  Preparing metadata (setup.py) ... \u001b[?25l\u001b[?25hdone\n",
            "Collecting gitpython!=3.1.19,<4,>=3.0.7 (from streamlit)\n",
            "  Downloading GitPython-3.1.32-py3-none-any.whl (188 kB)\n",
            "\u001b[2K     \u001b[90m━━━━━━━━━━━━━━━━━━━━━━━━━━━━━━━━━━━━━━\u001b[0m \u001b[32m188.5/188.5 kB\u001b[0m \u001b[31m14.8 MB/s\u001b[0m eta \u001b[36m0:00:00\u001b[0m\n",
            "\u001b[?25hCollecting pydeck<1,>=0.8 (from streamlit)\n",
            "  Downloading pydeck-0.8.0-py2.py3-none-any.whl (4.7 MB)\n",
            "\u001b[2K     \u001b[90m━━━━━━━━━━━━━━━━━━━━━━━━━━━━━━━━━━━━━━━━\u001b[0m \u001b[32m4.7/4.7 MB\u001b[0m \u001b[31m45.5 MB/s\u001b[0m eta \u001b[36m0:00:00\u001b[0m\n",
            "\u001b[?25hRequirement already satisfied: tornado<7,>=6.0.3 in /usr/local/lib/python3.10/dist-packages (from streamlit) (6.3.1)\n",
            "Collecting watchdog>=2.1.5 (from streamlit)\n",
            "  Downloading watchdog-3.0.0-py3-none-manylinux2014_x86_64.whl (82 kB)\n",
            "\u001b[2K     \u001b[90m━━━━━━━━━━━━━━━━━━━━━━━━━━━━━━━━━━━━━━━━\u001b[0m \u001b[32m82.1/82.1 kB\u001b[0m \u001b[31m10.1 MB/s\u001b[0m eta \u001b[36m0:00:00\u001b[0m\n",
            "\u001b[?25hRequirement already satisfied: entrypoints in /usr/local/lib/python3.10/dist-packages (from altair<6,>=4.0->streamlit) (0.4)\n",
            "Requirement already satisfied: jinja2 in /usr/local/lib/python3.10/dist-packages (from altair<6,>=4.0->streamlit) (3.1.2)\n",
            "Requirement already satisfied: jsonschema>=3.0 in /usr/local/lib/python3.10/dist-packages (from altair<6,>=4.0->streamlit) (4.3.3)\n",
            "Requirement already satisfied: toolz in /usr/local/lib/python3.10/dist-packages (from altair<6,>=4.0->streamlit) (0.12.0)\n",
            "Collecting gitdb<5,>=4.0.1 (from gitpython!=3.1.19,<4,>=3.0.7->streamlit)\n",
            "  Downloading gitdb-4.0.10-py3-none-any.whl (62 kB)\n",
            "\u001b[2K     \u001b[90m━━━━━━━━━━━━━━━━━━━━━━━━━━━━━━━━━━━━━━━━\u001b[0m \u001b[32m62.7/62.7 kB\u001b[0m \u001b[31m7.6 MB/s\u001b[0m eta \u001b[36m0:00:00\u001b[0m\n",
            "\u001b[?25hRequirement already satisfied: pytz>=2020.1 in /usr/local/lib/python3.10/dist-packages (from pandas<3,>=1.3.0->streamlit) (2022.7.1)\n",
            "Requirement already satisfied: six>=1.5 in /usr/local/lib/python3.10/dist-packages (from python-dateutil<3,>=2.7.3->streamlit) (1.16.0)\n",
            "Requirement already satisfied: urllib3<1.27,>=1.21.1 in /usr/local/lib/python3.10/dist-packages (from requests<3,>=2.18->streamlit) (1.26.16)\n",
            "Requirement already satisfied: certifi>=2017.4.17 in /usr/local/lib/python3.10/dist-packages (from requests<3,>=2.18->streamlit) (2023.7.22)\n",
            "Requirement already satisfied: charset-normalizer~=2.0.0 in /usr/local/lib/python3.10/dist-packages (from requests<3,>=2.18->streamlit) (2.0.12)\n",
            "Requirement already satisfied: idna<4,>=2.5 in /usr/local/lib/python3.10/dist-packages (from requests<3,>=2.18->streamlit) (3.4)\n",
            "Requirement already satisfied: markdown-it-py>=2.2.0 in /usr/local/lib/python3.10/dist-packages (from rich<14,>=10.14.0->streamlit) (3.0.0)\n",
            "Requirement already satisfied: pygments<3.0.0,>=2.13.0 in /usr/local/lib/python3.10/dist-packages (from rich<14,>=10.14.0->streamlit) (2.14.0)\n",
            "Collecting pytz-deprecation-shim (from tzlocal<5,>=1.1->streamlit)\n",
            "  Downloading pytz_deprecation_shim-0.1.0.post0-py2.py3-none-any.whl (15 kB)\n",
            "Requirement already satisfied: decorator>=3.4.0 in /usr/local/lib/python3.10/dist-packages (from validators<1,>=0.2->streamlit) (4.4.2)\n",
            "Collecting smmap<6,>=3.0.1 (from gitdb<5,>=4.0.1->gitpython!=3.1.19,<4,>=3.0.7->streamlit)\n",
            "  Downloading smmap-5.0.0-py3-none-any.whl (24 kB)\n",
            "Requirement already satisfied: MarkupSafe>=2.0 in /usr/local/lib/python3.10/dist-packages (from jinja2->altair<6,>=4.0->streamlit) (2.1.3)\n",
            "Requirement already satisfied: attrs>=17.4.0 in /usr/local/lib/python3.10/dist-packages (from jsonschema>=3.0->altair<6,>=4.0->streamlit) (23.1.0)\n",
            "Requirement already satisfied: pyrsistent!=0.17.0,!=0.17.1,!=0.17.2,>=0.14.0 in /usr/local/lib/python3.10/dist-packages (from jsonschema>=3.0->altair<6,>=4.0->streamlit) (0.19.3)\n",
            "Requirement already satisfied: mdurl~=0.1 in /usr/local/lib/python3.10/dist-packages (from markdown-it-py>=2.2.0->rich<14,>=10.14.0->streamlit) (0.1.2)\n",
            "Collecting tzdata (from pytz-deprecation-shim->tzlocal<5,>=1.1->streamlit)\n",
            "  Downloading tzdata-2023.3-py2.py3-none-any.whl (341 kB)\n",
            "\u001b[2K     \u001b[90m━━━━━━━━━━━━━━━━━━━━━━━━━━━━━━━━━━━━━━\u001b[0m \u001b[32m341.8/341.8 kB\u001b[0m \u001b[31m31.9 MB/s\u001b[0m eta \u001b[36m0:00:00\u001b[0m\n",
            "\u001b[?25hBuilding wheels for collected packages: validators\n",
            "  Building wheel for validators (setup.py) ... \u001b[?25l\u001b[?25hdone\n",
            "  Created wheel for validators: filename=validators-0.20.0-py3-none-any.whl size=19580 sha256=44e4ca7b83e2fa0d4c5c78146f36e8e8e89af52b42d4fa2e94799241bff4aea2\n",
            "  Stored in directory: /root/.cache/pip/wheels/f2/ed/dd/d3a556ad245ef9dc570c6bcd2f22886d17b0b408dd3bbb9ac3\n",
            "Successfully built validators\n",
            "Installing collected packages: watchdog, validators, tzdata, smmap, pympler, pytz-deprecation-shim, pydeck, gitdb, tzlocal, gitpython, streamlit\n",
            "  Attempting uninstall: tzlocal\n",
            "    Found existing installation: tzlocal 5.0.1\n",
            "    Uninstalling tzlocal-5.0.1:\n",
            "      Successfully uninstalled tzlocal-5.0.1\n",
            "Successfully installed gitdb-4.0.10 gitpython-3.1.32 pydeck-0.8.0 pympler-1.0.1 pytz-deprecation-shim-0.1.0.post0 smmap-5.0.0 streamlit-1.25.0 tzdata-2023.3 tzlocal-4.3.1 validators-0.20.0 watchdog-3.0.0\n"
          ]
        }
      ]
    },
    {
      "cell_type": "code",
      "execution_count": 2,
      "metadata": {
        "colab": {
          "base_uri": "https://localhost:8080/"
        },
        "id": "6zkyl-YxPHQA",
        "outputId": "d0cb1e9b-c94d-4503-84ad-14343b981f45"
      },
      "outputs": [
        {
          "output_type": "stream",
          "name": "stdout",
          "text": [
            "Hello. Would you like to order something? Please answer just YES or NO in full capital lettersYES\n",
            "We have a wide range of products\n",
            " TOMATO - 40 \n",
            " ONION - 60 \n",
            " POTATO - 55 \n",
            " BRINJAL - 65 \n",
            " CABBAGE - 75 \n",
            " , CAULIFLOWER - 70 \n",
            " CAPSICUM - 80\n",
            "How many items would you like to buy? 2\n",
            "What would you like to order? tomato\n",
            "How much of this item would you like to order? Write only in numbers. 3\n",
            "tomato\n",
            "3\n",
            "240\n",
            "Total bill =  240\n"
          ]
        }
      ],
      "source": [
        "# Bill Generation\n",
        "import streamlit as st\n",
        "\n",
        "choice = input(\"Hello. Would you like to order something? Please answer YES/ NO or yes/no\")\n",
        "\n",
        "Tomatoes =40\n",
        "Onions =60\n",
        "Potatoes =55\n",
        "Brinjal = 65\n",
        "Cabbage= 75\n",
        "Cauliflower = 70\n",
        "Capsicum =80\n",
        "\n",
        "if(choice==\"YES\" or choice=='yes'):\n",
        "\n",
        "\n",
        "\n",
        "  st.write(\"We have a wide range of products\")\n",
        "  nooftomatoes = st.number_input('How many kilos of TOMATOES would you like to purchase?')\n",
        "  noofonions = st.number_input('How many kilos of ONIONS would you like to purchase?')\n",
        "  noofpotatoes = st.number_input('How many kilos of POTATOES would you like to purchase?')\n",
        "  noofBrinjal = st.number_input('How many kilos of BRINJAL would you like to purchase?')\n",
        "  noofcabbage = st.number_input('How many kilos of cabbage would you like to purchase?')\n",
        "  noofcauliflower = st.number_input('How many kilos of cauliflower would you like to purchase?')\n",
        "  noofcapsicum = st.number_input('How many kilos of capsicum would you like to purchase?')\n",
        "\n",
        "  total_cost_of_tomato =nooftomatoes*Tomatoes\n",
        "  total_cost_of_onion = noofonions*Onions\n",
        "  total_cost_of_potatoes =noofpotatoes*Potatoes\n",
        "  total_cost_of_Brinjal =noofBrinjal*Brinjal\n",
        "  total_cost_of_cabbage = noofcabbage*Cabbage\n",
        "  total_cost_of_cauliflower=noofcauliflower*Cauliflower\n",
        "  total_cost_of_capsicum =noofcapsicum*Capsicum\n",
        "\n",
        "  Total_bill= total_cost_of_tomato+total_cost_of_onion+total_cost_of_potatoes+total_cost_of_Brinjal+total_cost_of_cabbage+total_cost_of_cauliflower+total_cost_of_capsicum\n",
        "  st.success(\" Total bill :\",Total_bill)\n",
        "elif(choice=='N' or choice=='n'):\n",
        "  st.error(\"Thank you for visitng. Goodbyee\")\n",
        "else:\n",
        "  st.warning(\"please give input y or n\")\n",
        "\n"
      ]
    },
    {
      "cell_type": "code",
      "source": [],
      "metadata": {
        "id": "yQXtLh1AWWu9"
      },
      "execution_count": null,
      "outputs": []
    }
  ]
}